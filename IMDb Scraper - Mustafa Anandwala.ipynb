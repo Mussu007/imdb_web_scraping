{
 "cells": [
  {
   "cell_type": "code",
   "execution_count": 2,
   "id": "3a9bd689",
   "metadata": {
    "scrolled": true
   },
   "outputs": [
    {
     "data": {
      "text/plain": [
       "''"
      ]
     },
     "execution_count": 2,
     "metadata": {},
     "output_type": "execute_result"
    }
   ],
   "source": [
    "#importing the libraries needed \n",
    "import pandas as pd\n",
    "import numpy as np\n",
    "import requests\n",
    "from bs4 import BeautifulSoup\n",
    "from time import sleep\n",
    "from random import randint\n",
    "\n",
    "#Declaring the headers \n",
    "headers = {\"Accept-Language\": \"en-US,en;q=0.5\"}\n",
    "\n",
    "#declaring the list of empty variables, So that we can append the data overall\n",
    "\n",
    "movie_name = []\n",
    "year = []\n",
    "time=[]\n",
    "rating=[]\n",
    "votes = []\n",
    "description = []\n",
    "director_list = []\n",
    "star_list = []\n",
    "imdb_id = []\n",
    "\n",
    "#creating an array of values and passing it in the url for dynamic webpages\n",
    "pages = np.arange(1,10000,50)\n",
    "\n",
    "#the whole core of the script\n",
    "for page in pages:\n",
    "    page = requests.get(\"https://www.imdb.com/search/title/?title_type=feature&primary_language=hi&sort=num_votes,desc&start=\"+str(page)+\"&ref_=adv_nxt\")\n",
    "    soup = BeautifulSoup(page.text, 'html.parser')\n",
    "    movie_data = soup.findAll('div', attrs = {'class': 'lister-item mode-advanced'})\n",
    "    sleep(randint(2,8))\n",
    "    for store in movie_data:\n",
    "        name = store.h3.a.text\n",
    "        movie_name.append(name)\n",
    "        \n",
    "        year_of_release = store.h3.find('span', class_ = \"lister-item-year text-muted unbold\").text\n",
    "        year.append(year_of_release)\n",
    "        \n",
    "        runtime = store.p.find(\"span\", class_ = 'runtime').text if store.p.find(\"span\", class_ = 'runtime') else \" \"\n",
    "        time.append(runtime)\n",
    "        \n",
    "        rate = store.find('div', class_ = \"inline-block ratings-imdb-rating\").text.replace('\\n', '') if store.find('div', class_ = \"inline-block ratings-imdb-rating\") else \" \"\n",
    "        rating.append(rate)\n",
    "        \n",
    "        value = store.find_all('span', attrs = {'name': \"nv\"})\n",
    "        \n",
    "        vote = value[0].text if store.find_all('span', attrs = {'name': \"nv\"}) else \" \"\n",
    "        votes.append(vote)\n",
    "        \n",
    "        # Description of the Movies \n",
    "        describe = store.find_all('p', class_ = 'text-muted')\n",
    "        description_ = describe[1].text.replace('\\n', '') if len(describe) > 1 else ' '\n",
    "        description.append(description_)\n",
    "        \n",
    "        ## Director \n",
    "        ps = store.find_all('p')\n",
    "        for p in ps:\n",
    "            if 'Director'in p.text:\n",
    "                director =p.find('a').text if p.find('a') else ' '\n",
    "        \n",
    "        director_list.append(director)\n",
    "        \n",
    "        ## actors\n",
    "        star = store.find(\"p\", attrs={\"class\":\"\"}).text.replace(\"Stars:\", \"\").replace(\"\\n\", \"\").replace(\"Director:\", \"\").replace(\"Directors:\", \"\")\n",
    "        star_list.append(star)\n",
    "        \n",
    "        # IMDB ID\n",
    "        imdbID = store.find('span','rating-cancel').a.get('href').split('/')[2] if store.find('span','rating-cancel') else ' '\n",
    "        imdb_id.append(imdbID)"
   ]
  },
  {
   "cell_type": "markdown",
   "id": "93007b4f",
   "metadata": {},
   "source": [
    "### Making the scrapping data into a DataFrame"
   ]
  },
  {
   "cell_type": "code",
   "execution_count": 3,
   "id": "b9e1e26a",
   "metadata": {},
   "outputs": [],
   "source": [
    "movie_list = pd.DataFrame({\"imdb-id\": imdb_id, \"movie_name\": movie_name, \"year_of_release\": year, \"runtime\" : time, \"IMDB_rating\" : rating,\n",
    "                           \"no_of_votes\": votes, \"plot_description\" : description, \"director\": director_list, \"actors\":star_list})"
   ]
  },
  {
   "cell_type": "code",
   "execution_count": 5,
   "id": "76182f1f",
   "metadata": {},
   "outputs": [
    {
     "data": {
      "text/html": [
       "<div>\n",
       "<style scoped>\n",
       "    .dataframe tbody tr th:only-of-type {\n",
       "        vertical-align: middle;\n",
       "    }\n",
       "\n",
       "    .dataframe tbody tr th {\n",
       "        vertical-align: top;\n",
       "    }\n",
       "\n",
       "    .dataframe thead th {\n",
       "        text-align: right;\n",
       "    }\n",
       "</style>\n",
       "<table border=\"1\" class=\"dataframe\">\n",
       "  <thead>\n",
       "    <tr style=\"text-align: right;\">\n",
       "      <th></th>\n",
       "      <th>imdb-id</th>\n",
       "      <th>movie_name</th>\n",
       "      <th>year_of_release</th>\n",
       "      <th>runtime</th>\n",
       "      <th>IMDB_rating</th>\n",
       "      <th>no_of_votes</th>\n",
       "      <th>plot_description</th>\n",
       "      <th>director</th>\n",
       "      <th>actors</th>\n",
       "    </tr>\n",
       "  </thead>\n",
       "  <tbody>\n",
       "    <tr>\n",
       "      <th>0</th>\n",
       "      <td>tt10811166</td>\n",
       "      <td>The Kashmir Files</td>\n",
       "      <td>(2022)</td>\n",
       "      <td>170 min</td>\n",
       "      <td>8.3</td>\n",
       "      <td>548,031</td>\n",
       "      <td>The Kashmir Files' is a story, based on video ...</td>\n",
       "      <td>Vivek Agnihotri</td>\n",
       "      <td>Vivek Agnihotri|     Mithun Chakraborty, A...</td>\n",
       "    </tr>\n",
       "    <tr>\n",
       "      <th>1</th>\n",
       "      <td>tt1187043</td>\n",
       "      <td>3 Idiots</td>\n",
       "      <td>(2009)</td>\n",
       "      <td>170 min</td>\n",
       "      <td>8.4</td>\n",
       "      <td>387,020</td>\n",
       "      <td>Two friends are searching for their long lost ...</td>\n",
       "      <td>Rajkumar Hirani</td>\n",
       "      <td>Rajkumar Hirani|     Aamir Khan, Madhavan,...</td>\n",
       "    </tr>\n",
       "    <tr>\n",
       "      <th>2</th>\n",
       "      <td>tt0986264</td>\n",
       "      <td>Taare Zameen Par</td>\n",
       "      <td>(2007)</td>\n",
       "      <td>165 min</td>\n",
       "      <td>8.3</td>\n",
       "      <td>188,938</td>\n",
       "      <td>An eight-year-old boy is thought to be a lazy ...</td>\n",
       "      <td>Aamir Khan</td>\n",
       "      <td>Aamir Khan, Amole Gupte|     Darsheel Safa...</td>\n",
       "    </tr>\n",
       "    <tr>\n",
       "      <th>3</th>\n",
       "      <td>tt5074352</td>\n",
       "      <td>Dangal</td>\n",
       "      <td>(2016)</td>\n",
       "      <td>161 min</td>\n",
       "      <td>8.3</td>\n",
       "      <td>183,452</td>\n",
       "      <td>Former wrestler Mahavir Singh Phogat and his t...</td>\n",
       "      <td>Nitesh Tiwari</td>\n",
       "      <td>Nitesh Tiwari|     Aamir Khan, Sakshi Tanw...</td>\n",
       "    </tr>\n",
       "    <tr>\n",
       "      <th>4</th>\n",
       "      <td>tt2338151</td>\n",
       "      <td>PK</td>\n",
       "      <td>(2014)</td>\n",
       "      <td>153 min</td>\n",
       "      <td>8.1</td>\n",
       "      <td>180,108</td>\n",
       "      <td>An alien on Earth loses the only device he can...</td>\n",
       "      <td>Rajkumar Hirani</td>\n",
       "      <td>Rajkumar Hirani|     Aamir Khan, Anushka S...</td>\n",
       "    </tr>\n",
       "  </tbody>\n",
       "</table>\n",
       "</div>"
      ],
      "text/plain": [
       "      imdb-id         movie_name year_of_release  runtime IMDB_rating  \\\n",
       "0  tt10811166  The Kashmir Files          (2022)  170 min         8.3   \n",
       "1   tt1187043           3 Idiots          (2009)  170 min         8.4   \n",
       "2   tt0986264   Taare Zameen Par          (2007)  165 min         8.3   \n",
       "3   tt5074352             Dangal          (2016)  161 min         8.3   \n",
       "4   tt2338151                 PK          (2014)  153 min         8.1   \n",
       "\n",
       "  no_of_votes                                   plot_description  \\\n",
       "0     548,031  The Kashmir Files' is a story, based on video ...   \n",
       "1     387,020  Two friends are searching for their long lost ...   \n",
       "2     188,938  An eight-year-old boy is thought to be a lazy ...   \n",
       "3     183,452  Former wrestler Mahavir Singh Phogat and his t...   \n",
       "4     180,108  An alien on Earth loses the only device he can...   \n",
       "\n",
       "          director                                             actors  \n",
       "0  Vivek Agnihotri      Vivek Agnihotri|     Mithun Chakraborty, A...  \n",
       "1  Rajkumar Hirani      Rajkumar Hirani|     Aamir Khan, Madhavan,...  \n",
       "2       Aamir Khan      Aamir Khan, Amole Gupte|     Darsheel Safa...  \n",
       "3    Nitesh Tiwari      Nitesh Tiwari|     Aamir Khan, Sakshi Tanw...  \n",
       "4  Rajkumar Hirani      Rajkumar Hirani|     Aamir Khan, Anushka S...  "
      ]
     },
     "execution_count": 5,
     "metadata": {},
     "output_type": "execute_result"
    }
   ],
   "source": [
    "movie_list.head()"
   ]
  },
  {
   "cell_type": "markdown",
   "id": "ebfa640d",
   "metadata": {},
   "source": [
    "### Creating a csv file"
   ]
  },
  {
   "cell_type": "code",
   "execution_count": 6,
   "id": "691652e5",
   "metadata": {},
   "outputs": [],
   "source": [
    "movie_list.to_csv(\"bollywood_data_set.csv\")"
   ]
  },
  {
   "cell_type": "code",
   "execution_count": 7,
   "id": "39098a3f",
   "metadata": {},
   "outputs": [],
   "source": [
    "df = pd.read_csv(\"bollywood_data_set.csv\")"
   ]
  },
  {
   "cell_type": "markdown",
   "id": "40cc7340",
   "metadata": {},
   "source": [
    "### Cleaning the dataset"
   ]
  },
  {
   "cell_type": "code",
   "execution_count": 8,
   "id": "5a7d7f13",
   "metadata": {},
   "outputs": [],
   "source": [
    "df = df.drop(\"Unnamed: 0\", axis = 1)"
   ]
  },
  {
   "cell_type": "code",
   "execution_count": 9,
   "id": "47030199",
   "metadata": {},
   "outputs": [],
   "source": [
    "df['imdb-id'] = df['imdb-id'].str.replace(\"tt\", '')"
   ]
  },
  {
   "cell_type": "code",
   "execution_count": 12,
   "id": "8a6f673b",
   "metadata": {},
   "outputs": [
    {
     "name": "stderr",
     "output_type": "stream",
     "text": [
      "C:\\Users\\musta\\AppData\\Local\\Temp/ipykernel_2572/981502636.py:1: FutureWarning: The default value of regex will change from True to False in a future version. In addition, single character regular expressions will *not* be treated as literal strings when regex=True.\n",
      "  df['year_of_release'] = df['year_of_release'].str.replace(\"(\", \"\")\n",
      "C:\\Users\\musta\\AppData\\Local\\Temp/ipykernel_2572/981502636.py:2: FutureWarning: The default value of regex will change from True to False in a future version. In addition, single character regular expressions will *not* be treated as literal strings when regex=True.\n",
      "  df['year_of_release'] = df['year_of_release'].str.replace(\")\", \"\")\n"
     ]
    }
   ],
   "source": [
    "df['year_of_release'] = df['year_of_release'].str.replace(\"(\", \"\")\n",
    "df['year_of_release'] = df['year_of_release'].str.replace(\")\", \"\")"
   ]
  },
  {
   "cell_type": "code",
   "execution_count": 13,
   "id": "54a54009",
   "metadata": {},
   "outputs": [
    {
     "data": {
      "text/html": [
       "<div>\n",
       "<style scoped>\n",
       "    .dataframe tbody tr th:only-of-type {\n",
       "        vertical-align: middle;\n",
       "    }\n",
       "\n",
       "    .dataframe tbody tr th {\n",
       "        vertical-align: top;\n",
       "    }\n",
       "\n",
       "    .dataframe thead th {\n",
       "        text-align: right;\n",
       "    }\n",
       "</style>\n",
       "<table border=\"1\" class=\"dataframe\">\n",
       "  <thead>\n",
       "    <tr style=\"text-align: right;\">\n",
       "      <th></th>\n",
       "      <th>imdb-id</th>\n",
       "      <th>movie_name</th>\n",
       "      <th>year_of_release</th>\n",
       "      <th>runtime</th>\n",
       "      <th>IMDB_rating</th>\n",
       "      <th>no_of_votes</th>\n",
       "      <th>plot_description</th>\n",
       "      <th>director</th>\n",
       "      <th>actors</th>\n",
       "    </tr>\n",
       "  </thead>\n",
       "  <tbody>\n",
       "    <tr>\n",
       "      <th>0</th>\n",
       "      <td>10811166</td>\n",
       "      <td>The Kashmir Files</td>\n",
       "      <td>2022</td>\n",
       "      <td>170 min</td>\n",
       "      <td>8.3</td>\n",
       "      <td>548,031</td>\n",
       "      <td>The Kashmir Files' is a story, based on video ...</td>\n",
       "      <td>Vivek Agnihotri</td>\n",
       "      <td>Vivek Agnihotri|     Mithun Chakraborty, A...</td>\n",
       "    </tr>\n",
       "    <tr>\n",
       "      <th>1</th>\n",
       "      <td>1187043</td>\n",
       "      <td>3 Idiots</td>\n",
       "      <td>2009</td>\n",
       "      <td>170 min</td>\n",
       "      <td>8.4</td>\n",
       "      <td>387,020</td>\n",
       "      <td>Two friends are searching for their long lost ...</td>\n",
       "      <td>Rajkumar Hirani</td>\n",
       "      <td>Rajkumar Hirani|     Aamir Khan, Madhavan,...</td>\n",
       "    </tr>\n",
       "    <tr>\n",
       "      <th>2</th>\n",
       "      <td>0986264</td>\n",
       "      <td>Taare Zameen Par</td>\n",
       "      <td>2007</td>\n",
       "      <td>165 min</td>\n",
       "      <td>8.3</td>\n",
       "      <td>188,938</td>\n",
       "      <td>An eight-year-old boy is thought to be a lazy ...</td>\n",
       "      <td>Aamir Khan</td>\n",
       "      <td>Aamir Khan, Amole Gupte|     Darsheel Safa...</td>\n",
       "    </tr>\n",
       "    <tr>\n",
       "      <th>3</th>\n",
       "      <td>5074352</td>\n",
       "      <td>Dangal</td>\n",
       "      <td>2016</td>\n",
       "      <td>161 min</td>\n",
       "      <td>8.3</td>\n",
       "      <td>183,452</td>\n",
       "      <td>Former wrestler Mahavir Singh Phogat and his t...</td>\n",
       "      <td>Nitesh Tiwari</td>\n",
       "      <td>Nitesh Tiwari|     Aamir Khan, Sakshi Tanw...</td>\n",
       "    </tr>\n",
       "    <tr>\n",
       "      <th>4</th>\n",
       "      <td>2338151</td>\n",
       "      <td>PK</td>\n",
       "      <td>2014</td>\n",
       "      <td>153 min</td>\n",
       "      <td>8.1</td>\n",
       "      <td>180,108</td>\n",
       "      <td>An alien on Earth loses the only device he can...</td>\n",
       "      <td>Rajkumar Hirani</td>\n",
       "      <td>Rajkumar Hirani|     Aamir Khan, Anushka S...</td>\n",
       "    </tr>\n",
       "  </tbody>\n",
       "</table>\n",
       "</div>"
      ],
      "text/plain": [
       "    imdb-id         movie_name year_of_release  runtime IMDB_rating  \\\n",
       "0  10811166  The Kashmir Files            2022  170 min         8.3   \n",
       "1   1187043           3 Idiots            2009  170 min         8.4   \n",
       "2   0986264   Taare Zameen Par            2007  165 min         8.3   \n",
       "3   5074352             Dangal            2016  161 min         8.3   \n",
       "4   2338151                 PK            2014  153 min         8.1   \n",
       "\n",
       "  no_of_votes                                   plot_description  \\\n",
       "0     548,031  The Kashmir Files' is a story, based on video ...   \n",
       "1     387,020  Two friends are searching for their long lost ...   \n",
       "2     188,938  An eight-year-old boy is thought to be a lazy ...   \n",
       "3     183,452  Former wrestler Mahavir Singh Phogat and his t...   \n",
       "4     180,108  An alien on Earth loses the only device he can...   \n",
       "\n",
       "          director                                             actors  \n",
       "0  Vivek Agnihotri      Vivek Agnihotri|     Mithun Chakraborty, A...  \n",
       "1  Rajkumar Hirani      Rajkumar Hirani|     Aamir Khan, Madhavan,...  \n",
       "2       Aamir Khan      Aamir Khan, Amole Gupte|     Darsheel Safa...  \n",
       "3    Nitesh Tiwari      Nitesh Tiwari|     Aamir Khan, Sakshi Tanw...  \n",
       "4  Rajkumar Hirani      Rajkumar Hirani|     Aamir Khan, Anushka S...  "
      ]
     },
     "execution_count": 13,
     "metadata": {},
     "output_type": "execute_result"
    }
   ],
   "source": [
    "df.head()"
   ]
  },
  {
   "cell_type": "code",
   "execution_count": null,
   "id": "55a4fcd2",
   "metadata": {},
   "outputs": [],
   "source": []
  }
 ],
 "metadata": {
  "kernelspec": {
   "display_name": "Python 3 (ipykernel)",
   "language": "python",
   "name": "python3"
  },
  "language_info": {
   "codemirror_mode": {
    "name": "ipython",
    "version": 3
   },
   "file_extension": ".py",
   "mimetype": "text/x-python",
   "name": "python",
   "nbconvert_exporter": "python",
   "pygments_lexer": "ipython3",
   "version": "3.9.7"
  }
 },
 "nbformat": 4,
 "nbformat_minor": 5
}
